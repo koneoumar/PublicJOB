{
 "cells": [
  {
   "cell_type": "code",
   "execution_count": 1,
   "metadata": {},
   "outputs": [],
   "source": [
    "import pandas as pd\n",
    "import numpy as np\n",
    "from sklearn.preprocessing import LabelEncoder, StandardScaler, MinMaxScaler\n",
    "from sklearn.neighbors import KNeighborsRegressor\n",
    "from sklearn.model_selection import train_test_split\n",
    "import sklearn.ensemble as ek\n",
    "from sklearn import tree, linear_model\n",
    "from sklearn.feature_selection import SelectFromModel\n",
    "#from sklearn.externals import joblib\n",
    "from sklearn.naive_bayes import GaussianNB\n",
    "from sklearn.metrics import confusion_matrix\n",
    "from sklearn.pipeline import make_pipeline\n",
    "from keras.layers import Input, Dense, Activation, Embedding\n",
    "from keras.models import Model\n",
    "from keras.optimizers import SGD\n",
    "from sklearn import preprocessing\n",
    "from sklearn import svm\n",
    "from sklearn.linear_model import LinearRegression"
   ]
  },
  {
   "cell_type": "code",
   "execution_count": 2,
   "metadata": {},
   "outputs": [],
   "source": [
    "df=pd.read_csv(\"train.csv\")"
   ]
  },
  {
   "cell_type": "code",
   "execution_count": 3,
   "metadata": {},
   "outputs": [
    {
     "data": {
      "text/plain": [
       "(1460, 81)"
      ]
     },
     "execution_count": 3,
     "metadata": {},
     "output_type": "execute_result"
    }
   ],
   "source": [
    "df.shape"
   ]
  },
  {
   "cell_type": "code",
   "execution_count": 4,
   "metadata": {},
   "outputs": [],
   "source": [
    "df=df.drop(\"Id\",axis=1)"
   ]
  },
  {
   "cell_type": "code",
   "execution_count": 5,
   "metadata": {},
   "outputs": [
    {
     "data": {
      "text/plain": [
       "array([2003, 1976, 2001, 1915, 2000, 1993, 2004, 1973, 1931, 1939, 1965,\n",
       "       2005, 1962, 2006, 1960, 1929, 1970, 1967, 1958, 1930, 2002, 1968,\n",
       "       2007, 1951, 1957, 1927, 1920, 1966, 1959, 1994, 1954, 1953, 1955,\n",
       "       1983, 1975, 1997, 1934, 1963, 1981, 1964, 1999, 1972, 1921, 1945,\n",
       "       1982, 1998, 1956, 1948, 1910, 1995, 1991, 2009, 1950, 1961, 1977,\n",
       "       1985, 1979, 1885, 1919, 1990, 1969, 1935, 1988, 1971, 1952, 1936,\n",
       "       1923, 1924, 1984, 1926, 1940, 1941, 1987, 1986, 2008, 1908, 1892,\n",
       "       1916, 1932, 1918, 1912, 1947, 1925, 1900, 1980, 1989, 1992, 1949,\n",
       "       1880, 1928, 1978, 1922, 1996, 2010, 1946, 1913, 1937, 1942, 1938,\n",
       "       1974, 1893, 1914, 1906, 1890, 1898, 1904, 1882, 1875, 1911, 1917,\n",
       "       1872, 1905], dtype=int64)"
      ]
     },
     "execution_count": 5,
     "metadata": {},
     "output_type": "execute_result"
    }
   ],
   "source": [
    "df[\"YearBuilt\"].unique()"
   ]
  },
  {
   "cell_type": "code",
   "execution_count": 6,
   "metadata": {},
   "outputs": [
    {
     "name": "stdout",
     "output_type": "stream",
     "text": [
      "LotFrontage     259\n",
      "Alley     1369\n",
      "MasVnrType     8\n",
      "MasVnrArea     8\n",
      "BsmtQual     37\n",
      "BsmtCond     37\n",
      "BsmtExposure     38\n",
      "BsmtFinType1     37\n",
      "BsmtFinType2     38\n",
      "Electrical     1\n",
      "FireplaceQu     690\n",
      "GarageType     81\n",
      "GarageYrBlt     81\n",
      "GarageFinish     81\n",
      "GarageQual     81\n",
      "GarageCond     81\n",
      "PoolQC     1453\n",
      "Fence     1179\n",
      "MiscFeature     1406\n"
     ]
    }
   ],
   "source": [
    "compteur=[]\n",
    "for i in df.keys():\n",
    "    if df[i].isnull().sum()>0:\n",
    "        compteur.append(i)\n",
    "        print(i,\"   \",df[i].isnull().sum())"
   ]
  },
  {
   "cell_type": "code",
   "execution_count": 7,
   "metadata": {},
   "outputs": [],
   "source": [
    "#df1=df[df[\"MasVnrType\"]!=]\n",
    "#df1[[\"MasVnrType\"]]"
   ]
  },
  {
   "cell_type": "code",
   "execution_count": 8,
   "metadata": {},
   "outputs": [],
   "source": [
    "def Average(df,k):\n",
    "    df[k].fillna(df[k].mean(),inplace=True)\n",
    "    return df\n",
    "def Qualitative(df,k):\n",
    "    if df[k].isnull().sum()>0:\n",
    "        df[k].fillna(\"NA\",inplace=True)\n",
    "    return df"
   ]
  },
  {
   "cell_type": "code",
   "execution_count": 9,
   "metadata": {},
   "outputs": [],
   "source": [
    "key_numeric=[\"MasVnrArea\",\"GarageYrBlt\",'LotFrontage']\n",
    "key_qualitatif=[\"MasVnrType\",\"Alley\",\"BsmtQual\",\"MiscFeature\",\"Fence\",\"PoolQC\",\"FireplaceQu\",\"BsmtCond\",\"BsmtExposure\",\"BsmtFinType1\",\"BsmtFinType2\",\"Electrical\",\"GarageType\",\"GarageFinish\",\"GarageQual\",\"GarageCond\"]\n",
    "for i in key_numeric:\n",
    "    df=Average(df,i)\n",
    "for i in key_qualitatif:\n",
    "    df=Qualitative(df,i)   "
   ]
  },
  {
   "cell_type": "code",
   "execution_count": 10,
   "metadata": {},
   "outputs": [
    {
     "data": {
      "text/plain": [
       "(1460, 80)"
      ]
     },
     "execution_count": 10,
     "metadata": {},
     "output_type": "execute_result"
    }
   ],
   "source": [
    "df.shape"
   ]
  },
  {
   "cell_type": "code",
   "execution_count": 11,
   "metadata": {},
   "outputs": [],
   "source": [
    "#df['MasVnrType']=f\n",
    "for i in df.keys():\n",
    "    if df[i].isnull().sum()>0:\n",
    "        print(i)"
   ]
  },
  {
   "cell_type": "code",
   "execution_count": 12,
   "metadata": {},
   "outputs": [
    {
     "data": {
      "text/plain": [
       "array(['BrkFace', 'None', 'Stone', 'BrkCmn', 'NA'], dtype=object)"
      ]
     },
     "execution_count": 12,
     "metadata": {},
     "output_type": "execute_result"
    }
   ],
   "source": [
    "df[\"MasVnrType\"].unique()"
   ]
  },
  {
   "cell_type": "code",
   "execution_count": 13,
   "metadata": {},
   "outputs": [],
   "source": [
    "key=[\"MSSubClass\",\"MSZoning\",\"Alley\",\"PoolQC\",\"Fence\",\"MiscFeature\",\"FireplaceQu\",\"Street\",\"LandContour\",\"LotConfig\",\"Neighborhood\",\"Condition1\",\"Condition2\",\"BldgType\",\"HouseStyle\",\"RoofStyle\",\"RoofMatl\",\"Exterior1st\",\"Exterior2nd\",\"MasVnrType\",\"Foundation\",\"Heating\",\"CentralAir\",\"Electrical\",\"Functional\",\"GarageType\",\"SaleType\",\"SaleCondition\"]\n",
    "for i in key:\n",
    "    lb=LabelEncoder()\n",
    "    lb.fit(df[i])\n",
    "    df[i]=lb.transform(df[i])"
   ]
  },
  {
   "cell_type": "code",
   "execution_count": 14,
   "metadata": {},
   "outputs": [],
   "source": [
    "def OrderQualit(df,i,col):\n",
    "    lb=LabelEncoder()\n",
    "    lb.fit(col)\n",
    "    df[i]=lb.transform(df[i])\n",
    "    return df"
   ]
  },
  {
   "cell_type": "code",
   "execution_count": 15,
   "metadata": {},
   "outputs": [],
   "source": [
    "df=OrderQualit(df,'LotShape',['Reg', 'IR1', 'IR2', 'IR3'])\n",
    "df=OrderQualit(df,'Utilities',['AllPub','NoSeWa'])\n",
    "df=OrderQualit(df,'LandSlope',['Gtl', 'Mod', 'Sev'])\n",
    "col=['NA','Po','Fa','TA','Gd','Ex']\n",
    "df=OrderQualit(df,'ExterQual',col)\n",
    "df=OrderQualit(df,'ExterCond',col)\n",
    "df=OrderQualit(df,'BsmtQual',col)\n",
    "df=OrderQualit(df,'BsmtCond',col)\n",
    "col1=['NA','No','Mn','Av','Gd']\n",
    "df=OrderQualit(df,'BsmtExposure',col1)\n",
    "col2=['NA','Unf','LwQ','Rec','BLQ','ALQ','GLQ']\n",
    "df=OrderQualit(df,'BsmtFinType1',col2)\n",
    "df=OrderQualit(df,'BsmtFinType2',col2)\n",
    "df=OrderQualit(df,'HeatingQC',col)\n",
    "df=OrderQualit(df,'KitchenQual',col)\n",
    "col3=['NA','Unf','RFn', 'Fin']\n",
    "df=OrderQualit(df,'GarageFinish',col3)\n",
    "df=OrderQualit(df,'GarageQual',col)\n",
    "df=OrderQualit(df,'GarageCond',col)\n",
    "col4=['N', 'P','Y']\n",
    "df=OrderQualit(df,'PavedDrive',col4)"
   ]
  },
  {
   "cell_type": "code",
   "execution_count": 16,
   "metadata": {},
   "outputs": [
    {
     "data": {
      "text/plain": [
       "array([2, 0, 1])"
      ]
     },
     "execution_count": 16,
     "metadata": {},
     "output_type": "execute_result"
    }
   ],
   "source": [
    "df['PavedDrive'].unique()\n"
   ]
  },
  {
   "cell_type": "code",
   "execution_count": 17,
   "metadata": {},
   "outputs": [],
   "source": [
    "def Standardisation(X):\n",
    "    Std_scaler=StandardScaler()\n",
    "    return Std_scaler.fit_transform(X)"
   ]
  },
  {
   "cell_type": "code",
   "execution_count": 18,
   "metadata": {},
   "outputs": [],
   "source": [
    "X=df.drop('SalePrice',axis=1)\n",
    "y=df['SalePrice']\n",
    "X=Standardisation(X)\n",
    "X_train, X_test, y_train, y_test =train_test_split(X, y , random_state=10,test_size=0.2)"
   ]
  },
  {
   "cell_type": "code",
   "execution_count": 19,
   "metadata": {},
   "outputs": [
    {
     "name": "stdout",
     "output_type": "stream",
     "text": [
      "test: 0.1166968523217564\n",
      "preds: 0.0017458581017402138\n",
      "**************************************************\n"
     ]
    }
   ],
   "source": [
    "results = {}\n",
    "val=100000000\n",
    "clf =ek.GradientBoostingClassifier(n_estimators=5)\n",
    "clf.fit(X_train,y_train)\n",
    "preds= clf.predict(X_test)\n",
    "score_test = sum((np.log(preds)-np.log(y_test))**2)/len(y_test)\n",
    "print (\"test:\",score_test)\n",
    "preds=clf.predict(X_train)\n",
    "score_preds=sum((np.log(preds)-np.log(y_train))**2)/len(y_train)\n",
    "print (\"preds:\", score_preds)\n",
    "print ('*'*50)"
   ]
  }
 ],
 "metadata": {
  "kernelspec": {
   "display_name": "Python 3",
   "language": "python",
   "name": "python3"
  },
  "language_info": {
   "codemirror_mode": {
    "name": "ipython",
    "version": 3
   },
   "file_extension": ".py",
   "mimetype": "text/x-python",
   "name": "python",
   "nbconvert_exporter": "python",
   "pygments_lexer": "ipython3",
   "version": "3.8.8"
  }
 },
 "nbformat": 4,
 "nbformat_minor": 2
}
